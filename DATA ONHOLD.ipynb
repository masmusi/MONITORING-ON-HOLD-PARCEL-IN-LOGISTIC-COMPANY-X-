{
 "cells": [
  {
   "cell_type": "code",
   "execution_count": 72,
   "metadata": {},
   "outputs": [],
   "source": [
    "import pandas as pd\n",
    "import matplotlib.pyplot as plt\n",
    "import seaborn as sns\n",
    "import numpy as np"
   ]
  },
  {
   "cell_type": "code",
   "execution_count": 73,
   "metadata": {},
   "outputs": [
    {
     "data": {
      "text/html": [
       "<div>\n",
       "<style scoped>\n",
       "    .dataframe tbody tr th:only-of-type {\n",
       "        vertical-align: middle;\n",
       "    }\n",
       "\n",
       "    .dataframe tbody tr th {\n",
       "        vertical-align: top;\n",
       "    }\n",
       "\n",
       "    .dataframe thead th {\n",
       "        text-align: right;\n",
       "    }\n",
       "</style>\n",
       "<table border=\"1\" class=\"dataframe\">\n",
       "  <thead>\n",
       "    <tr style=\"text-align: right;\">\n",
       "      <th></th>\n",
       "      <th>DistrictName</th>\n",
       "      <th>LocationType</th>\n",
       "      <th>PostalCode</th>\n",
       "      <th>ReceivedTime</th>\n",
       "      <th>PickupTime</th>\n",
       "      <th>OnHoldTime</th>\n",
       "      <th>OnHoldReason</th>\n",
       "      <th>RescheduleDate</th>\n",
       "      <th>Status</th>\n",
       "      <th>CODAmount</th>\n",
       "      <th>...</th>\n",
       "      <th>SumOnhold</th>\n",
       "      <th>DeliveryAttempts</th>\n",
       "      <th>BulkyType</th>\n",
       "      <th>SLATargetDate</th>\n",
       "      <th>TimetoSLA</th>\n",
       "      <th>PaymentMethod</th>\n",
       "      <th>CurrentStation</th>\n",
       "      <th>AssignTime</th>\n",
       "      <th>DestinationHub</th>\n",
       "      <th>Zone</th>\n",
       "    </tr>\n",
       "  </thead>\n",
       "  <tbody>\n",
       "    <tr>\n",
       "      <th>0</th>\n",
       "      <td>SUNGKAI UTARA</td>\n",
       "      <td>Home</td>\n",
       "      <td>34555</td>\n",
       "      <td>2022-06-04 20:39:00</td>\n",
       "      <td>2022-06-05 09:55:00</td>\n",
       "      <td>2022-06-05 11:28:00</td>\n",
       "      <td>Address Is Close</td>\n",
       "      <td>0</td>\n",
       "      <td>OnHold</td>\n",
       "      <td>474830</td>\n",
       "      <td>...</td>\n",
       "      <td>1</td>\n",
       "      <td>1</td>\n",
       "      <td>Non-Bulky</td>\n",
       "      <td>2022-06-05 00:00:00</td>\n",
       "      <td>overtime</td>\n",
       "      <td>COD</td>\n",
       "      <td>Sungkai Utara Hub</td>\n",
       "      <td>2022-06-05 09:55:00</td>\n",
       "      <td>Sungkai Utara Hub</td>\n",
       "      <td>NaN</td>\n",
       "    </tr>\n",
       "    <tr>\n",
       "      <th>1</th>\n",
       "      <td>TEMBALANG</td>\n",
       "      <td>Office</td>\n",
       "      <td>50272</td>\n",
       "      <td>2022-06-14 05:48:00</td>\n",
       "      <td>2022-06-14 10:33:00</td>\n",
       "      <td>2022-06-14 10:35:00</td>\n",
       "      <td>Normal</td>\n",
       "      <td>0</td>\n",
       "      <td>OnHold</td>\n",
       "      <td>0</td>\n",
       "      <td>...</td>\n",
       "      <td>1</td>\n",
       "      <td>1</td>\n",
       "      <td>Non-Bulky</td>\n",
       "      <td>Pending</td>\n",
       "      <td>NaN</td>\n",
       "      <td>NON-COD</td>\n",
       "      <td>Banyumanik Hub</td>\n",
       "      <td>2022-06-14 10:33:00</td>\n",
       "      <td>Banyumanik Hub</td>\n",
       "      <td>BMK-B-09</td>\n",
       "    </tr>\n",
       "    <tr>\n",
       "      <th>2</th>\n",
       "      <td>GAMPING</td>\n",
       "      <td>NaN</td>\n",
       "      <td>55592</td>\n",
       "      <td>2022-06-08 13:43:00</td>\n",
       "      <td>2022-06-09 10:21:00</td>\n",
       "      <td>2022-06-09 10:23:00</td>\n",
       "      <td>Damaged Item</td>\n",
       "      <td>0</td>\n",
       "      <td>OnHold</td>\n",
       "      <td>0</td>\n",
       "      <td>...</td>\n",
       "      <td>1</td>\n",
       "      <td>1</td>\n",
       "      <td>Non-Bulky</td>\n",
       "      <td>2022-06-10 00:00:00</td>\n",
       "      <td>overtime</td>\n",
       "      <td>NON-COD</td>\n",
       "      <td>Sleman Hub</td>\n",
       "      <td>2022-06-09 10:21:00</td>\n",
       "      <td>Sleman Hub</td>\n",
       "      <td>SLE-A-23</td>\n",
       "    </tr>\n",
       "    <tr>\n",
       "      <th>3</th>\n",
       "      <td>RANAH PESISIR</td>\n",
       "      <td>Home</td>\n",
       "      <td>25666</td>\n",
       "      <td>2022-06-14 03:25:00</td>\n",
       "      <td>2022-06-15 09:00:00</td>\n",
       "      <td>2022-06-15 17:03:00</td>\n",
       "      <td>Buyer Not Contactable</td>\n",
       "      <td>0</td>\n",
       "      <td>OnHold</td>\n",
       "      <td>99601</td>\n",
       "      <td>...</td>\n",
       "      <td>1</td>\n",
       "      <td>1</td>\n",
       "      <td>Non-Bulky</td>\n",
       "      <td>2022-06-14 00:00:00</td>\n",
       "      <td>overtime</td>\n",
       "      <td>COD</td>\n",
       "      <td>Kambang Hub</td>\n",
       "      <td>2022-06-15 09:00:00</td>\n",
       "      <td>Kambang Hub</td>\n",
       "      <td>NaN</td>\n",
       "    </tr>\n",
       "    <tr>\n",
       "      <th>4</th>\n",
       "      <td>KOTO VII</td>\n",
       "      <td>NaN</td>\n",
       "      <td>27562</td>\n",
       "      <td>2022-06-10 17:46:00</td>\n",
       "      <td>2022-06-15 09:03:00</td>\n",
       "      <td>2022-06-15 23:07:00</td>\n",
       "      <td>Insufficient Time</td>\n",
       "      <td>0</td>\n",
       "      <td>OnHold</td>\n",
       "      <td>24885</td>\n",
       "      <td>...</td>\n",
       "      <td>3</td>\n",
       "      <td>3</td>\n",
       "      <td>Non-Bulky</td>\n",
       "      <td>Pending</td>\n",
       "      <td>NaN</td>\n",
       "      <td>COD</td>\n",
       "      <td>Sijunjung Hub</td>\n",
       "      <td>2022-06-15 09:03:00</td>\n",
       "      <td>Sijunjung Hub</td>\n",
       "      <td>NaN</td>\n",
       "    </tr>\n",
       "  </tbody>\n",
       "</table>\n",
       "<p>5 rows × 23 columns</p>\n",
       "</div>"
      ],
      "text/plain": [
       "    DistrictName LocationType PostalCode        ReceivedTime  \\\n",
       "0  SUNGKAI UTARA         Home      34555 2022-06-04 20:39:00   \n",
       "1      TEMBALANG       Office      50272 2022-06-14 05:48:00   \n",
       "2        GAMPING          NaN      55592 2022-06-08 13:43:00   \n",
       "3  RANAH PESISIR         Home      25666 2022-06-14 03:25:00   \n",
       "4       KOTO VII          NaN      27562 2022-06-10 17:46:00   \n",
       "\n",
       "           PickupTime          OnHoldTime           OnHoldReason  \\\n",
       "0 2022-06-05 09:55:00 2022-06-05 11:28:00       Address Is Close   \n",
       "1 2022-06-14 10:33:00 2022-06-14 10:35:00                 Normal   \n",
       "2 2022-06-09 10:21:00 2022-06-09 10:23:00           Damaged Item   \n",
       "3 2022-06-15 09:00:00 2022-06-15 17:03:00  Buyer Not Contactable   \n",
       "4 2022-06-15 09:03:00 2022-06-15 23:07:00      Insufficient Time   \n",
       "\n",
       "   RescheduleDate  Status  CODAmount  ... SumOnhold  DeliveryAttempts  \\\n",
       "0               0  OnHold     474830  ...         1                 1   \n",
       "1               0  OnHold          0  ...         1                 1   \n",
       "2               0  OnHold          0  ...         1                 1   \n",
       "3               0  OnHold      99601  ...         1                 1   \n",
       "4               0  OnHold      24885  ...         3                 3   \n",
       "\n",
       "   BulkyType        SLATargetDate  TimetoSLA PaymentMethod     CurrentStation  \\\n",
       "0  Non-Bulky  2022-06-05 00:00:00   overtime           COD  Sungkai Utara Hub   \n",
       "1  Non-Bulky              Pending        NaN       NON-COD     Banyumanik Hub   \n",
       "2  Non-Bulky  2022-06-10 00:00:00   overtime       NON-COD         Sleman Hub   \n",
       "3  Non-Bulky  2022-06-14 00:00:00   overtime           COD        Kambang Hub   \n",
       "4  Non-Bulky              Pending        NaN           COD      Sijunjung Hub   \n",
       "\n",
       "           AssignTime     DestinationHub      Zone  \n",
       "0 2022-06-05 09:55:00  Sungkai Utara Hub       NaN  \n",
       "1 2022-06-14 10:33:00     Banyumanik Hub  BMK-B-09  \n",
       "2 2022-06-09 10:21:00         Sleman Hub  SLE-A-23  \n",
       "3 2022-06-15 09:00:00        Kambang Hub       NaN  \n",
       "4 2022-06-15 09:03:00      Sijunjung Hub       NaN  \n",
       "\n",
       "[5 rows x 23 columns]"
      ]
     },
     "execution_count": 73,
     "metadata": {},
     "output_type": "execute_result"
    }
   ],
   "source": [
    "data = pd.read_excel(r'C:\\Users\\musih\\project1\\book.xlsx')\n",
    "data.head(5)"
   ]
  },
  {
   "cell_type": "code",
   "execution_count": 74,
   "metadata": {},
   "outputs": [
    {
     "name": "stdout",
     "output_type": "stream",
     "text": [
      "<class 'pandas.core.frame.DataFrame'>\n",
      "RangeIndex: 13455 entries, 0 to 13454\n",
      "Data columns (total 23 columns):\n",
      " #   Column            Non-Null Count  Dtype         \n",
      "---  ------            --------------  -----         \n",
      " 0   DistrictName      13455 non-null  object        \n",
      " 1   LocationType      10397 non-null  object        \n",
      " 2   PostalCode        13442 non-null  object        \n",
      " 3   ReceivedTime      13443 non-null  datetime64[ns]\n",
      " 4   PickupTime        13455 non-null  datetime64[ns]\n",
      " 5   OnHoldTime        13455 non-null  datetime64[ns]\n",
      " 6   OnHoldReason      13455 non-null  object        \n",
      " 7   RescheduleDate    13455 non-null  int64         \n",
      " 8   Status            13455 non-null  object        \n",
      " 9   CODAmount         13455 non-null  int64         \n",
      " 10  OrderAccount      13455 non-null  object        \n",
      " 11  OriginalASF       13455 non-null  int64         \n",
      " 12  RoundingASF       13360 non-null  float64       \n",
      " 13  SumOnhold         13455 non-null  int64         \n",
      " 14  DeliveryAttempts  13455 non-null  int64         \n",
      " 15  BulkyType         9196 non-null   object        \n",
      " 16  SLATargetDate     13455 non-null  object        \n",
      " 17  TimetoSLA         7205 non-null   object        \n",
      " 18  PaymentMethod     13455 non-null  object        \n",
      " 19  CurrentStation    13455 non-null  object        \n",
      " 20  AssignTime        13455 non-null  datetime64[ns]\n",
      " 21  DestinationHub    13455 non-null  object        \n",
      " 22  Zone              11014 non-null  object        \n",
      "dtypes: datetime64[ns](4), float64(1), int64(5), object(13)\n",
      "memory usage: 2.4+ MB\n"
     ]
    }
   ],
   "source": [
    "data.info()"
   ]
  },
  {
   "cell_type": "code",
   "execution_count": 75,
   "metadata": {},
   "outputs": [
    {
     "data": {
      "text/plain": [
       "DistrictName           0\n",
       "LocationType        3058\n",
       "PostalCode            13\n",
       "ReceivedTime          12\n",
       "PickupTime             0\n",
       "OnHoldTime             0\n",
       "OnHoldReason           0\n",
       "RescheduleDate         0\n",
       "Status                 0\n",
       "CODAmount              0\n",
       "OrderAccount           0\n",
       "OriginalASF            0\n",
       "RoundingASF           95\n",
       "SumOnhold              0\n",
       "DeliveryAttempts       0\n",
       "BulkyType           4259\n",
       "SLATargetDate          0\n",
       "TimetoSLA           6250\n",
       "PaymentMethod          0\n",
       "CurrentStation         0\n",
       "AssignTime             0\n",
       "DestinationHub         0\n",
       "Zone                2441\n",
       "dtype: int64"
      ]
     },
     "execution_count": 75,
     "metadata": {},
     "output_type": "execute_result"
    }
   ],
   "source": [
    "data.isna().sum()"
   ]
  },
  {
   "cell_type": "code",
   "execution_count": 76,
   "metadata": {},
   "outputs": [],
   "source": [
    "data = data.dropna()"
   ]
  },
  {
   "cell_type": "code",
   "execution_count": 77,
   "metadata": {},
   "outputs": [
    {
     "data": {
      "text/plain": [
       "DistrictName        0\n",
       "LocationType        0\n",
       "PostalCode          0\n",
       "ReceivedTime        0\n",
       "PickupTime          0\n",
       "OnHoldTime          0\n",
       "OnHoldReason        0\n",
       "RescheduleDate      0\n",
       "Status              0\n",
       "CODAmount           0\n",
       "OrderAccount        0\n",
       "OriginalASF         0\n",
       "RoundingASF         0\n",
       "SumOnhold           0\n",
       "DeliveryAttempts    0\n",
       "BulkyType           0\n",
       "SLATargetDate       0\n",
       "TimetoSLA           0\n",
       "PaymentMethod       0\n",
       "CurrentStation      0\n",
       "AssignTime          0\n",
       "DestinationHub      0\n",
       "Zone                0\n",
       "dtype: int64"
      ]
     },
     "execution_count": 77,
     "metadata": {},
     "output_type": "execute_result"
    }
   ],
   "source": [
    "data.isna().sum()"
   ]
  },
  {
   "cell_type": "code",
   "execution_count": 78,
   "metadata": {},
   "outputs": [
    {
     "data": {
      "text/plain": [
       "0"
      ]
     },
     "execution_count": 78,
     "metadata": {},
     "output_type": "execute_result"
    }
   ],
   "source": [
    "data.duplicated().sum()\n"
   ]
  },
  {
   "cell_type": "code",
   "execution_count": 79,
   "metadata": {},
   "outputs": [
    {
     "data": {
      "text/html": [
       "<div>\n",
       "<style scoped>\n",
       "    .dataframe tbody tr th:only-of-type {\n",
       "        vertical-align: middle;\n",
       "    }\n",
       "\n",
       "    .dataframe tbody tr th {\n",
       "        vertical-align: top;\n",
       "    }\n",
       "\n",
       "    .dataframe thead th {\n",
       "        text-align: right;\n",
       "    }\n",
       "</style>\n",
       "<table border=\"1\" class=\"dataframe\">\n",
       "  <thead>\n",
       "    <tr style=\"text-align: right;\">\n",
       "      <th></th>\n",
       "      <th>DestinationHub</th>\n",
       "      <th>total_parcel</th>\n",
       "    </tr>\n",
       "  </thead>\n",
       "  <tbody>\n",
       "    <tr>\n",
       "      <th>29</th>\n",
       "      <td>Batam Hub</td>\n",
       "      <td>202</td>\n",
       "    </tr>\n",
       "    <tr>\n",
       "      <th>10</th>\n",
       "      <td>Banda Aceh Hub</td>\n",
       "      <td>126</td>\n",
       "    </tr>\n",
       "    <tr>\n",
       "      <th>182</th>\n",
       "      <td>Padang Hub</td>\n",
       "      <td>96</td>\n",
       "    </tr>\n",
       "    <tr>\n",
       "      <th>164</th>\n",
       "      <td>Medan Helvetia Hub</td>\n",
       "      <td>60</td>\n",
       "    </tr>\n",
       "    <tr>\n",
       "      <th>163</th>\n",
       "      <td>Medan Amplas Hub</td>\n",
       "      <td>55</td>\n",
       "    </tr>\n",
       "    <tr>\n",
       "      <th>184</th>\n",
       "      <td>Palangka Raya Hub</td>\n",
       "      <td>49</td>\n",
       "    </tr>\n",
       "    <tr>\n",
       "      <th>72</th>\n",
       "      <td>Cirebon Hub</td>\n",
       "      <td>46</td>\n",
       "    </tr>\n",
       "    <tr>\n",
       "      <th>15</th>\n",
       "      <td>Bandung Timur Hub</td>\n",
       "      <td>43</td>\n",
       "    </tr>\n",
       "    <tr>\n",
       "      <th>270</th>\n",
       "      <td>Tamansari Hub</td>\n",
       "      <td>39</td>\n",
       "    </tr>\n",
       "    <tr>\n",
       "      <th>19</th>\n",
       "      <td>Banjarmasin Hub</td>\n",
       "      <td>39</td>\n",
       "    </tr>\n",
       "  </tbody>\n",
       "</table>\n",
       "</div>"
      ],
      "text/plain": [
       "         DestinationHub  total_parcel\n",
       "29            Batam Hub           202\n",
       "10       Banda Aceh Hub           126\n",
       "182          Padang Hub            96\n",
       "164  Medan Helvetia Hub            60\n",
       "163    Medan Amplas Hub            55\n",
       "184   Palangka Raya Hub            49\n",
       "72          Cirebon Hub            46\n",
       "15    Bandung Timur Hub            43\n",
       "270       Tamansari Hub            39\n",
       "19      Banjarmasin Hub            39"
      ]
     },
     "execution_count": 79,
     "metadata": {},
     "output_type": "execute_result"
    }
   ],
   "source": [
    "# FIND WHAT ARE DESTINATION HUB DOMINATION ONHOLD PARCEL\n",
    "top10_hub = (data\n",
    "            .groupby('DestinationHub')\n",
    "            .agg(total_parcel=('SumOnhold','count'))\n",
    "            .reset_index()\n",
    "            .sort_values('total_parcel',ascending=False)\n",
    "            .head(10)\n",
    "            )\n",
    "top10_hub"
   ]
  },
  {
   "cell_type": "code",
   "execution_count": 80,
   "metadata": {},
   "outputs": [
    {
     "data": {
      "image/png": "[encoded data removed]",
      "text/plain": [
       "<Figure size 576x432 with 1 Axes>"
      ]
     },
     "metadata": {
      "needs_background": "light"
     },
     "output_type": "display_data"
    }
   ],
   "source": [
    "# visualize it\n",
    "plt.figure(figsize=(8,6))\n",
    "plt.rc('font', size=15) #configure size font\n",
    "sns.barplot(data=top10_hub, x='DestinationHub', y='total_parcel')\n",
    "plt.xticks(rotation=90)\n",
    "plt.show()"
   ]
  },
  {
   "cell_type": "code",
   "execution_count": 81,
   "metadata": {},
   "outputs": [
    {
     "data": {
      "text/html": [
       "<div>\n",
       "<style scoped>\n",
       "    .dataframe tbody tr th:only-of-type {\n",
       "        vertical-align: middle;\n",
       "    }\n",
       "\n",
       "    .dataframe tbody tr th {\n",
       "        vertical-align: top;\n",
       "    }\n",
       "\n",
       "    .dataframe thead th {\n",
       "        text-align: right;\n",
       "    }\n",
       "</style>\n",
       "<table border=\"1\" class=\"dataframe\">\n",
       "  <thead>\n",
       "    <tr style=\"text-align: right;\">\n",
       "      <th></th>\n",
       "      <th>OnHoldReason</th>\n",
       "      <th>total_parcel</th>\n",
       "    </tr>\n",
       "  </thead>\n",
       "  <tbody>\n",
       "    <tr>\n",
       "      <th>5</th>\n",
       "      <td>Damaged Item</td>\n",
       "      <td>839</td>\n",
       "    </tr>\n",
       "    <tr>\n",
       "      <th>15</th>\n",
       "      <td>Waiting Confirmation</td>\n",
       "      <td>288</td>\n",
       "    </tr>\n",
       "    <tr>\n",
       "      <th>2</th>\n",
       "      <td>Buyer Not Contactable</td>\n",
       "      <td>285</td>\n",
       "    </tr>\n",
       "    <tr>\n",
       "      <th>3</th>\n",
       "      <td>Buyer Not On Location</td>\n",
       "      <td>255</td>\n",
       "    </tr>\n",
       "    <tr>\n",
       "      <th>9</th>\n",
       "      <td>Item Lost</td>\n",
       "      <td>242</td>\n",
       "    </tr>\n",
       "    <tr>\n",
       "      <th>8</th>\n",
       "      <td>Insufficient Time</td>\n",
       "      <td>205</td>\n",
       "    </tr>\n",
       "    <tr>\n",
       "      <th>6</th>\n",
       "      <td>Inaccessible Location</td>\n",
       "      <td>150</td>\n",
       "    </tr>\n",
       "    <tr>\n",
       "      <th>7</th>\n",
       "      <td>Incomplete Address</td>\n",
       "      <td>148</td>\n",
       "    </tr>\n",
       "    <tr>\n",
       "      <th>4</th>\n",
       "      <td>Buyer Reschedule</td>\n",
       "      <td>122</td>\n",
       "    </tr>\n",
       "    <tr>\n",
       "      <th>13</th>\n",
       "      <td>Rejected By User</td>\n",
       "      <td>105</td>\n",
       "    </tr>\n",
       "  </tbody>\n",
       "</table>\n",
       "</div>"
      ],
      "text/plain": [
       "             OnHoldReason  total_parcel\n",
       "5            Damaged Item           839\n",
       "15   Waiting Confirmation           288\n",
       "2   Buyer Not Contactable           285\n",
       "3   Buyer Not On Location           255\n",
       "9               Item Lost           242\n",
       "8       Insufficient Time           205\n",
       "6   Inaccessible Location           150\n",
       "7      Incomplete Address           148\n",
       "4        Buyer Reschedule           122\n",
       "13       Rejected By User           105"
      ]
     },
     "execution_count": 81,
     "metadata": {},
     "output_type": "execute_result"
    }
   ],
   "source": [
    "# FIND BEST 10 REASON ONHOLD DOMINATION PERIODE 1 - 15 JUNI 2022\n",
    "top10_onhold = (data\n",
    "            .groupby('OnHoldReason')\n",
    "            .agg(total_parcel=('SumOnhold','count'))\n",
    "            .reset_index()\n",
    "            .sort_values('total_parcel',ascending=False)\n",
    "            .head(10)\n",
    "            )\n",
    "top10_onhold"
   ]
  },
  {
   "cell_type": "code",
   "execution_count": 83,
   "metadata": {},
   "outputs": [
    {
     "data": {
      "image/png": "[encoded data removed]",
      "text/plain": [
       "<Figure size 576x432 with 1 Axes>"
      ]
     },
     "metadata": {
      "needs_background": "light"
     },
     "output_type": "display_data"
    }
   ],
   "source": [
    "# visualize it\n",
    "plt.figure(figsize=(8,6))\n",
    "plt.rc('font', size=15) #configure size font\n",
    "sns.barplot(data=top10_onhold, x='OnHoldReason', y='total_parcel')\n",
    "plt.xticks(rotation=90)\n",
    "plt.show()"
   ]
  },
  {
   "cell_type": "code",
   "execution_count": 144,
   "metadata": {},
   "outputs": [
    {
     "name": "stdout",
     "output_type": "stream",
     "text": [
      "Damaged Item                839\n",
      "Waiting Confirmation        288\n",
      "Buyer Not Contactable       285\n",
      "Buyer Not On Location       255\n",
      "Item Lost                   242\n",
      "Insufficient Time           205\n",
      "Inaccessible Location       150\n",
      "Incomplete Address          148\n",
      "Buyer Reschedule            122\n",
      "Rejected By User            105\n",
      "Transfer to Other Driver     70\n",
      "No Payment Received          48\n",
      "Address Is Close             31\n",
      "Misroute                     24\n",
      "Address Not Match            24\n",
      "Normal                        2\n",
      "Name: OnHoldReason, dtype: int64\n"
     ]
    },
    {
     "data": {
      "application/vnd.plotly.v1+json": {
       "config": {
        "linkText": "Export to plot.ly",
        "plotlyServerURL": "https://plot.ly",
        "showLink": false
       },
       "data": [
        {
         "domain": {
          "x": [
           0,
           1
          ],
          "y": [
           0,
           1
          ]
         },
         "hovertemplate": "label=%{label}<br>value=%{value}<extra></extra>",
         "labels": [
          839,
          288,
          285,
          255,
          242,
          205,
          150,
          148,
          122,
          105,
          70,
          48,
          31,
          24,
          24,
          2
         ],
         "legendgroup": "",
         "name": "",
         "showlegend": true,
         "type": "pie",
         "values": [
          839,
          288,
          285,
          255,
          242,
          205,
          150,
          148,
          122,
          105,
          70,
          48,
          31,
          24,
          24,
          2
         ]
        }
       ],
       "layout": {
        "legend": {
         "tracegroupgap": 0
        },
        "template": {
         "data": {
          "bar": [
           {
            "error_x": {
             "color": "#2a3f5f"
            },
            "error_y": {
             "color": "#2a3f5f"
            },
            "marker": {
             "line": {
              "color": "#E5ECF6",
              "width": 0.5
             },
             "pattern": {
              "fillmode": "overlay",
              "size": 10,
              "solidity": 0.2
             }
            },
            "type": "bar"
           }
          ],
          "barpolar": [
           {
            "marker": {
             "line": {
              "color": "#E5ECF6",
              "width": 0.5
             },
             "pattern": {
              "fillmode": "overlay",
              "size": 10,
              "solidity": 0.2
             }
            },
            "type": "barpolar"
           }
          ],
          "carpet": [
           {
            "aaxis": {
             "endlinecolor": "#2a3f5f",
             "gridcolor": "white",
             "linecolor": "white",
             "minorgridcolor": "white",
             "startlinecolor": "#2a3f5f"
            },
            "baxis": {
             "endlinecolor": "#2a3f5f",
             "gridcolor": "white",
             "linecolor": "white",
             "minorgridcolor": "white",
             "startlinecolor": "#2a3f5f"
            },
            "type": "carpet"
           }
          ],
          "choropleth": [
           {
            "colorbar": {
             "outlinewidth": 0,
             "ticks": ""
            },
            "type": "choropleth"
           }
          ],
          "contour": [
           {
            "colorbar": {
             "outlinewidth": 0,
             "ticks": ""
            },
            "colorscale": [
             [
              0,
              "#0d0887"
             ],
             [
              0.1111111111111111,
              "#46039f"
             ],
             [
              0.2222222222222222,
              "#7201a8"
             ],
             [
              0.3333333333333333,
              "#9c179e"
             ],
             [
              0.4444444444444444,
              "#bd3786"
             ],
             [
              0.5555555555555556,
              "#d8576b"
             ],
             [
              0.6666666666666666,
              "#ed7953"
             ],
             [
              0.7777777777777778,
              "#fb9f3a"
             ],
             [
              0.8888888888888888,
              "#fdca26"
             ],
             [
              1,
              "#f0f921"
             ]
            ],
            "type": "contour"
           }
          ],
          "contourcarpet": [
           {
            "colorbar": {
             "outlinewidth": 0,
             "ticks": ""
            },
            "type": "contourcarpet"
           }
          ],
          "heatmap": [
           {
            "colorbar": {
             "outlinewidth": 0,
             "ticks": ""
            },
            "colorscale": [
             [
              0,
              "#0d0887"
             ],
             [
              0.1111111111111111,
              "#46039f"
             ],
             [
              0.2222222222222222,
              "#7201a8"
             ],
             [
              0.3333333333333333,
              "#9c179e"
             ],
             [
              0.4444444444444444,
              "#bd3786"
             ],
             [
              0.5555555555555556,
              "#d8576b"
             ],
             [
              0.6666666666666666,
              "#ed7953"
             ],
             [
              0.7777777777777778,
              "#fb9f3a"
             ],
             [
              0.8888888888888888,
              "#fdca26"
             ],
             [
              1,
              "#f0f921"
             ]
            ],
            "type": "heatmap"
           }
          ],
          "heatmapgl": [
           {
            "colorbar": {
             "outlinewidth": 0,
             "ticks": ""
            },
            "colorscale": [
             [
              0,
              "#0d0887"
             ],
             [
              0.1111111111111111,
              "#46039f"
             ],
             [
              0.2222222222222222,
              "#7201a8"
             ],
             [
              0.3333333333333333,
              "#9c179e"
             ],
             [
              0.4444444444444444,
              "#bd3786"
             ],
             [
              0.5555555555555556,
              "#d8576b"
             ],
             [
              0.6666666666666666,
              "#ed7953"
             ],
             [
              0.7777777777777778,
              "#fb9f3a"
             ],
             [
              0.8888888888888888,
              "#fdca26"
             ],
             [
              1,
              "#f0f921"
             ]
            ],
            "type": "heatmapgl"
           }
          ],
          "histogram": [
           {
            "marker": {
             "pattern": {
              "fillmode": "overlay",
              "size": 10,
              "solidity": 0.2
             }
            },
            "type": "histogram"
           }
          ],
          "histogram2d": [
           {
            "colorbar": {
             "outlinewidth": 0,
             "ticks": ""
            },
            "colorscale": [
             [
              0,
              "#0d0887"
             ],
             [
              0.1111111111111111,
              "#46039f"
             ],
             [
              0.2222222222222222,
              "#7201a8"
             ],
             [
              0.3333333333333333,
              "#9c179e"
             ],
             [
              0.4444444444444444,
              "#bd3786"
             ],
             [
              0.5555555555555556,
              "#d8576b"
             ],
             [
              0.6666666666666666,
              "#ed7953"
             ],
             [
              0.7777777777777778,
              "#fb9f3a"
             ],
             [
              0.8888888888888888,
              "#fdca26"
             ],
             [
              1,
              "#f0f921"
             ]
            ],
            "type": "histogram2d"
           }
          ],
          "histogram2dcontour": [
           {
            "colorbar": {
             "outlinewidth": 0,
             "ticks": ""
            },
            "colorscale": [
             [
              0,
              "#0d0887"
             ],
             [
              0.1111111111111111,
              "#46039f"
             ],
             [
              0.2222222222222222,
              "#7201a8"
             ],
             [
              0.3333333333333333,
              "#9c179e"
             ],
             [
              0.4444444444444444,
              "#bd3786"
             ],
             [
              0.5555555555555556,
              "#d8576b"
             ],
             [
              0.6666666666666666,
              "#ed7953"
             ],
             [
              0.7777777777777778,
              "#fb9f3a"
             ],
             [
              0.8888888888888888,
              "#fdca26"
             ],
             [
              1,
              "#f0f921"
             ]
            ],
            "type": "histogram2dcontour"
           }
          ],
          "mesh3d": [
           {
            "colorbar": {
             "outlinewidth": 0,
             "ticks": ""
            },
            "type": "mesh3d"
           }
          ],
          "parcoords": [
           {
            "line": {
             "colorbar": {
              "outlinewidth": 0,
              "ticks": ""
             }
            },
            "type": "parcoords"
           }
          ],
          "pie": [
           {
            "automargin": true,
            "type": "pie"
           }
          ],
          "scatter": [
           {
            "fillpattern": {
             "fillmode": "overlay",
             "size": 10,
             "solidity": 0.2
            },
            "type": "scatter"
           }
          ],
          "scatter3d": [
           {
            "line": {
             "colorbar": {
              "outlinewidth": 0,
              "ticks": ""
             }
            },
            "marker": {
             "colorbar": {
              "outlinewidth": 0,
              "ticks": ""
             }
            },
            "type": "scatter3d"
           }
          ],
          "scattercarpet": [
           {
            "marker": {
             "colorbar": {
              "outlinewidth": 0,
              "ticks": ""
             }
            },
            "type": "scattercarpet"
           }
          ],
          "scattergeo": [
           {
            "marker": {
             "colorbar": {
              "outlinewidth": 0,
              "ticks": ""
             }
            },
            "type": "scattergeo"
           }
          ],
          "scattergl": [
           {
            "marker": {
             "colorbar": {
              "outlinewidth": 0,
              "ticks": ""
             }
            },
            "type": "scattergl"
           }
          ],
          "scattermapbox": [
           {
            "marker": {
             "colorbar": {
              "outlinewidth": 0,
              "ticks": ""
             }
            },
            "type": "scattermapbox"
           }
          ],
          "scatterpolar": [
           {
            "marker": {
             "colorbar": {
              "outlinewidth": 0,
              "ticks": ""
             }
            },
            "type": "scatterpolar"
           }
          ],
          "scatterpolargl": [
           {
            "marker": {
             "colorbar": {
              "outlinewidth": 0,
              "ticks": ""
             }
            },
            "type": "scatterpolargl"
           }
          ],
          "scatterternary": [
           {
            "marker": {
             "colorbar": {
              "outlinewidth": 0,
              "ticks": ""
             }
            },
            "type": "scatterternary"
           }
          ],
          "surface": [
           {
            "colorbar": {
             "outlinewidth": 0,
             "ticks": ""
            },
            "colorscale": [
             [
              0,
              "#0d0887"
             ],
             [
              0.1111111111111111,
              "#46039f"
             ],
             [
              0.2222222222222222,
              "#7201a8"
             ],
             [
              0.3333333333333333,
              "#9c179e"
             ],
             [
              0.4444444444444444,
              "#bd3786"
             ],
             [
              0.5555555555555556,
              "#d8576b"
             ],
             [
              0.6666666666666666,
              "#ed7953"
             ],
             [
              0.7777777777777778,
              "#fb9f3a"
             ],
             [
              0.8888888888888888,
              "#fdca26"
             ],
             [
              1,
              "#f0f921"
             ]
            ],
            "type": "surface"
           }
          ],
          "table": [
           {
            "cells": {
             "fill": {
              "color": "#EBF0F8"
             },
             "line": {
              "color": "white"
             }
            },
            "header": {
             "fill": {
              "color": "#C8D4E3"
             },
             "line": {
              "color": "white"
             }
            },
            "type": "table"
           }
          ]
         },
         "layout": {
          "annotationdefaults": {
           "arrowcolor": "#2a3f5f",
           "arrowhead": 0,
           "arrowwidth": 1
          },
          "autotypenumbers": "strict",
          "coloraxis": {
           "colorbar": {
            "outlinewidth": 0,
            "ticks": ""
           }
          },
          "colorscale": {
           "diverging": [
            [
             0,
             "#8e0152"
            ],
            [
             0.1,
             "#c51b7d"
            ],
            [
             0.2,
             "#de77ae"
            ],
            [
             0.3,
             "#f1b6da"
            ],
            [
             0.4,
             "#fde0ef"
            ],
            [
             0.5,
             "#f7f7f7"
            ],
            [
             0.6,
             "#e6f5d0"
            ],
            [
             0.7,
             "#b8e186"
            ],
            [
             0.8,
             "#7fbc41"
            ],
            [
             0.9,
             "#4d9221"
            ],
            [
             1,
             "#276419"
            ]
           ],
           "sequential": [
            [
             0,
             "#0d0887"
            ],
            [
             0.1111111111111111,
             "#46039f"
            ],
            [
             0.2222222222222222,
             "#7201a8"
            ],
            [
             0.3333333333333333,
             "#9c179e"
            ],
            [
             0.4444444444444444,
             "#bd3786"
            ],
            [
             0.5555555555555556,
             "#d8576b"
            ],
            [
             0.6666666666666666,
             "#ed7953"
            ],
            [
             0.7777777777777778,
             "#fb9f3a"
            ],
            [
             0.8888888888888888,
             "#fdca26"
            ],
            [
             1,
             "#f0f921"
            ]
           ],
           "sequentialminus": [
            [
             0,
             "#0d0887"
            ],
            [
             0.1111111111111111,
             "#46039f"
            ],
            [
             0.2222222222222222,
             "#7201a8"
            ],
            [
             0.3333333333333333,
             "#9c179e"
            ],
            [
             0.4444444444444444,
             "#bd3786"
            ],
            [
             0.5555555555555556,
             "#d8576b"
            ],
            [
             0.6666666666666666,
             "#ed7953"
            ],
            [
             0.7777777777777778,
             "#fb9f3a"
            ],
            [
             0.8888888888888888,
             "#fdca26"
            ],
            [
             1,
             "#f0f921"
            ]
           ]
          },
          "colorway": [
           "#636efa",
           "#EF553B",
           "#00cc96",
           "#ab63fa",
           "#FFA15A",
           "#19d3f3",
           "#FF6692",
           "#B6E880",
           "#FF97FF",
           "#FECB52"
          ],
          "font": {
           "color": "#2a3f5f"
          },
          "geo": {
           "bgcolor": "white",
           "lakecolor": "white",
           "landcolor": "#E5ECF6",
           "showlakes": true,
           "showland": true,
           "subunitcolor": "white"
          },
          "hoverlabel": {
           "align": "left"
          },
          "hovermode": "closest",
          "mapbox": {
           "style": "light"
          },
          "paper_bgcolor": "white",
          "plot_bgcolor": "#E5ECF6",
          "polar": {
           "angularaxis": {
            "gridcolor": "white",
            "linecolor": "white",
            "ticks": ""
           },
           "bgcolor": "#E5ECF6",
           "radialaxis": {
            "gridcolor": "white",
            "linecolor": "white",
            "ticks": ""
           }
          },
          "scene": {
           "xaxis": {
            "backgroundcolor": "#E5ECF6",
            "gridcolor": "white",
            "gridwidth": 2,
            "linecolor": "white",
            "showbackground": true,
            "ticks": "",
            "zerolinecolor": "white"
           },
           "yaxis": {
            "backgroundcolor": "#E5ECF6",
            "gridcolor": "white",
            "gridwidth": 2,
            "linecolor": "white",
            "showbackground": true,
            "ticks": "",
            "zerolinecolor": "white"
           },
           "zaxis": {
            "backgroundcolor": "#E5ECF6",
            "gridcolor": "white",
            "gridwidth": 2,
            "linecolor": "white",
            "showbackground": true,
            "ticks": "",
            "zerolinecolor": "white"
           }
          },
          "shapedefaults": {
           "line": {
            "color": "#2a3f5f"
           }
          },
          "ternary": {
           "aaxis": {
            "gridcolor": "white",
            "linecolor": "white",
            "ticks": ""
           },
           "baxis": {
            "gridcolor": "white",
            "linecolor": "white",
            "ticks": ""
           },
           "bgcolor": "#E5ECF6",
           "caxis": {
            "gridcolor": "white",
            "linecolor": "white",
            "ticks": ""
           }
          },
          "title": {
           "x": 0.05
          },
          "xaxis": {
           "automargin": true,
           "gridcolor": "white",
           "linecolor": "white",
           "ticks": "",
           "title": {
            "standoff": 15
           },
           "zerolinecolor": "white",
           "zerolinewidth": 2
          },
          "yaxis": {
           "automargin": true,
           "gridcolor": "white",
           "linecolor": "white",
           "ticks": "",
           "title": {
            "standoff": 15
           },
           "zerolinecolor": "white",
           "zerolinewidth": 2
          }
         }
        },
        "title": {
         "text": "REASON ONHOLD"
        }
       }
      },
      "text/html": [
       "<div>                            <div id=\"89d110fb-13e2-454e-9dfe-105a227c9982\" class=\"plotly-graph-div\" style=\"height:525px; width:100%;\"></div>            <script type=\"text/javascript\">                require([\"plotly\"], function(Plotly) {                    window.PLOTLYENV=window.PLOTLYENV || {};                                    if (document.getElementById(\"89d110fb-13e2-454e-9dfe-105a227c9982\")) {                    Plotly.newPlot(                        \"89d110fb-13e2-454e-9dfe-105a227c9982\",                        [{\"domain\":{\"x\":[0.0,1.0],\"y\":[0.0,1.0]},\"hovertemplate\":\"label=%{label}<br>value=%{value}<extra></extra>\",\"labels\":[839,288,285,255,242,205,150,148,122,105,70,48,31,24,24,2],\"legendgroup\":\"\",\"name\":\"\",\"showlegend\":true,\"values\":[839,288,285,255,242,205,150,148,122,105,70,48,31,24,24,2],\"type\":\"pie\"}],                        {\"legend\":{\"tracegroupgap\":0},\"template\":{\"data\":{\"barpolar\":[{\"marker\":{\"line\":{\"color\":\"#E5ECF6\",\"width\":0.5},\"pattern\":{\"fillmode\":\"overlay\",\"size\":10,\"solidity\":0.2}},\"type\":\"barpolar\"}],\"bar\":[{\"error_x\":{\"color\":\"#2a3f5f\"},\"error_y\":{\"color\":\"#2a3f5f\"},\"marker\":{\"line\":{\"color\":\"#E5ECF6\",\"width\":0.5},\"pattern\":{\"fillmode\":\"overlay\",\"size\":10,\"solidity\":0.2}},\"type\":\"bar\"}],\"carpet\":[{\"aaxis\":{\"endlinecolor\":\"#2a3f5f\",\"gridcolor\":\"white\",\"linecolor\":\"white\",\"minorgridcolor\":\"white\",\"startlinecolor\":\"#2a3f5f\"},\"baxis\":{\"endlinecolor\":\"#2a3f5f\",\"gridcolor\":\"white\",\"linecolor\":\"white\",\"minorgridcolor\":\"white\",\"startlinecolor\":\"#2a3f5f\"},\"type\":\"carpet\"}],\"choropleth\":[{\"colorbar\":{\"outlinewidth\":0,\"ticks\":\"\"},\"type\":\"choropleth\"}],\"contourcarpet\":[{\"colorbar\":{\"outlinewidth\":0,\"ticks\":\"\"},\"type\":\"contourcarpet\"}],\"contour\":[{\"colorbar\":{\"outlinewidth\":0,\"ticks\":\"\"},\"colorscale\":[[0.0,\"#0d0887\"],[0.1111111111111111,\"#46039f\"],[0.2222222222222222,\"#7201a8\"],[0.3333333333333333,\"#9c179e\"],[0.4444444444444444,\"#bd3786\"],[0.5555555555555556,\"#d8576b\"],[0.6666666666666666,\"#ed7953\"],[0.7777777777777778,\"#fb9f3a\"],[0.8888888888888888,\"#fdca26\"],[1.0,\"#f0f921\"]],\"type\":\"contour\"}],\"heatmapgl\":[{\"colorbar\":{\"outlinewidth\":0,\"ticks\":\"\"},\"colorscale\":[[0.0,\"#0d0887\"],[0.1111111111111111,\"#46039f\"],[0.2222222222222222,\"#7201a8\"],[0.3333333333333333,\"#9c179e\"],[0.4444444444444444,\"#bd3786\"],[0.5555555555555556,\"#d8576b\"],[0.6666666666666666,\"#ed7953\"],[0.7777777777777778,\"#fb9f3a\"],[0.8888888888888888,\"#fdca26\"],[1.0,\"#f0f921\"]],\"type\":\"heatmapgl\"}],\"heatmap\":[{\"colorbar\":{\"outlinewidth\":0,\"ticks\":\"\"},\"colorscale\":[[0.0,\"#0d0887\"],[0.1111111111111111,\"#46039f\"],[0.2222222222222222,\"#7201a8\"],[0.3333333333333333,\"#9c179e\"],[0.4444444444444444,\"#bd3786\"],[0.5555555555555556,\"#d8576b\"],[0.6666666666666666,\"#ed7953\"],[0.7777777777777778,\"#fb9f3a\"],[0.8888888888888888,\"#fdca26\"],[1.0,\"#f0f921\"]],\"type\":\"heatmap\"}],\"histogram2dcontour\":[{\"colorbar\":{\"outlinewidth\":0,\"ticks\":\"\"},\"colorscale\":[[0.0,\"#0d0887\"],[0.1111111111111111,\"#46039f\"],[0.2222222222222222,\"#7201a8\"],[0.3333333333333333,\"#9c179e\"],[0.4444444444444444,\"#bd3786\"],[0.5555555555555556,\"#d8576b\"],[0.6666666666666666,\"#ed7953\"],[0.7777777777777778,\"#fb9f3a\"],[0.8888888888888888,\"#fdca26\"],[1.0,\"#f0f921\"]],\"type\":\"histogram2dcontour\"}],\"histogram2d\":[{\"colorbar\":{\"outlinewidth\":0,\"ticks\":\"\"},\"colorscale\":[[0.0,\"#0d0887\"],[0.1111111111111111,\"#46039f\"],[0.2222222222222222,\"#7201a8\"],[0.3333333333333333,\"#9c179e\"],[0.4444444444444444,\"#bd3786\"],[0.5555555555555556,\"#d8576b\"],[0.6666666666666666,\"#ed7953\"],[0.7777777777777778,\"#fb9f3a\"],[0.8888888888888888,\"#fdca26\"],[1.0,\"#f0f921\"]],\"type\":\"histogram2d\"}],\"histogram\":[{\"marker\":{\"pattern\":{\"fillmode\":\"overlay\",\"size\":10,\"solidity\":0.2}},\"type\":\"histogram\"}],\"mesh3d\":[{\"colorbar\":{\"outlinewidth\":0,\"ticks\":\"\"},\"type\":\"mesh3d\"}],\"parcoords\":[{\"line\":{\"colorbar\":{\"outlinewidth\":0,\"ticks\":\"\"}},\"type\":\"parcoords\"}],\"pie\":[{\"automargin\":true,\"type\":\"pie\"}],\"scatter3d\":[{\"line\":{\"colorbar\":{\"outlinewidth\":0,\"ticks\":\"\"}},\"marker\":{\"colorbar\":{\"outlinewidth\":0,\"ticks\":\"\"}},\"type\":\"scatter3d\"}],\"scattercarpet\":[{\"marker\":{\"colorbar\":{\"outlinewidth\":0,\"ticks\":\"\"}},\"type\":\"scattercarpet\"}],\"scattergeo\":[{\"marker\":{\"colorbar\":{\"outlinewidth\":0,\"ticks\":\"\"}},\"type\":\"scattergeo\"}],\"scattergl\":[{\"marker\":{\"colorbar\":{\"outlinewidth\":0,\"ticks\":\"\"}},\"type\":\"scattergl\"}],\"scattermapbox\":[{\"marker\":{\"colorbar\":{\"outlinewidth\":0,\"ticks\":\"\"}},\"type\":\"scattermapbox\"}],\"scatterpolargl\":[{\"marker\":{\"colorbar\":{\"outlinewidth\":0,\"ticks\":\"\"}},\"type\":\"scatterpolargl\"}],\"scatterpolar\":[{\"marker\":{\"colorbar\":{\"outlinewidth\":0,\"ticks\":\"\"}},\"type\":\"scatterpolar\"}],\"scatter\":[{\"fillpattern\":{\"fillmode\":\"overlay\",\"size\":10,\"solidity\":0.2},\"type\":\"scatter\"}],\"scatterternary\":[{\"marker\":{\"colorbar\":{\"outlinewidth\":0,\"ticks\":\"\"}},\"type\":\"scatterternary\"}],\"surface\":[{\"colorbar\":{\"outlinewidth\":0,\"ticks\":\"\"},\"colorscale\":[[0.0,\"#0d0887\"],[0.1111111111111111,\"#46039f\"],[0.2222222222222222,\"#7201a8\"],[0.3333333333333333,\"#9c179e\"],[0.4444444444444444,\"#bd3786\"],[0.5555555555555556,\"#d8576b\"],[0.6666666666666666,\"#ed7953\"],[0.7777777777777778,\"#fb9f3a\"],[0.8888888888888888,\"#fdca26\"],[1.0,\"#f0f921\"]],\"type\":\"surface\"}],\"table\":[{\"cells\":{\"fill\":{\"color\":\"#EBF0F8\"},\"line\":{\"color\":\"white\"}},\"header\":{\"fill\":{\"color\":\"#C8D4E3\"},\"line\":{\"color\":\"white\"}},\"type\":\"table\"}]},\"layout\":{\"annotationdefaults\":{\"arrowcolor\":\"#2a3f5f\",\"arrowhead\":0,\"arrowwidth\":1},\"autotypenumbers\":\"strict\",\"coloraxis\":{\"colorbar\":{\"outlinewidth\":0,\"ticks\":\"\"}},\"colorscale\":{\"diverging\":[[0,\"#8e0152\"],[0.1,\"#c51b7d\"],[0.2,\"#de77ae\"],[0.3,\"#f1b6da\"],[0.4,\"#fde0ef\"],[0.5,\"#f7f7f7\"],[0.6,\"#e6f5d0\"],[0.7,\"#b8e186\"],[0.8,\"#7fbc41\"],[0.9,\"#4d9221\"],[1,\"#276419\"]],\"sequential\":[[0.0,\"#0d0887\"],[0.1111111111111111,\"#46039f\"],[0.2222222222222222,\"#7201a8\"],[0.3333333333333333,\"#9c179e\"],[0.4444444444444444,\"#bd3786\"],[0.5555555555555556,\"#d8576b\"],[0.6666666666666666,\"#ed7953\"],[0.7777777777777778,\"#fb9f3a\"],[0.8888888888888888,\"#fdca26\"],[1.0,\"#f0f921\"]],\"sequentialminus\":[[0.0,\"#0d0887\"],[0.1111111111111111,\"#46039f\"],[0.2222222222222222,\"#7201a8\"],[0.3333333333333333,\"#9c179e\"],[0.4444444444444444,\"#bd3786\"],[0.5555555555555556,\"#d8576b\"],[0.6666666666666666,\"#ed7953\"],[0.7777777777777778,\"#fb9f3a\"],[0.8888888888888888,\"#fdca26\"],[1.0,\"#f0f921\"]]},\"colorway\":[\"#636efa\",\"#EF553B\",\"#00cc96\",\"#ab63fa\",\"#FFA15A\",\"#19d3f3\",\"#FF6692\",\"#B6E880\",\"#FF97FF\",\"#FECB52\"],\"font\":{\"color\":\"#2a3f5f\"},\"geo\":{\"bgcolor\":\"white\",\"lakecolor\":\"white\",\"landcolor\":\"#E5ECF6\",\"showlakes\":true,\"showland\":true,\"subunitcolor\":\"white\"},\"hoverlabel\":{\"align\":\"left\"},\"hovermode\":\"closest\",\"mapbox\":{\"style\":\"light\"},\"paper_bgcolor\":\"white\",\"plot_bgcolor\":\"#E5ECF6\",\"polar\":{\"angularaxis\":{\"gridcolor\":\"white\",\"linecolor\":\"white\",\"ticks\":\"\"},\"bgcolor\":\"#E5ECF6\",\"radialaxis\":{\"gridcolor\":\"white\",\"linecolor\":\"white\",\"ticks\":\"\"}},\"scene\":{\"xaxis\":{\"backgroundcolor\":\"#E5ECF6\",\"gridcolor\":\"white\",\"gridwidth\":2,\"linecolor\":\"white\",\"showbackground\":true,\"ticks\":\"\",\"zerolinecolor\":\"white\"},\"yaxis\":{\"backgroundcolor\":\"#E5ECF6\",\"gridcolor\":\"white\",\"gridwidth\":2,\"linecolor\":\"white\",\"showbackground\":true,\"ticks\":\"\",\"zerolinecolor\":\"white\"},\"zaxis\":{\"backgroundcolor\":\"#E5ECF6\",\"gridcolor\":\"white\",\"gridwidth\":2,\"linecolor\":\"white\",\"showbackground\":true,\"ticks\":\"\",\"zerolinecolor\":\"white\"}},\"shapedefaults\":{\"line\":{\"color\":\"#2a3f5f\"}},\"ternary\":{\"aaxis\":{\"gridcolor\":\"white\",\"linecolor\":\"white\",\"ticks\":\"\"},\"baxis\":{\"gridcolor\":\"white\",\"linecolor\":\"white\",\"ticks\":\"\"},\"bgcolor\":\"#E5ECF6\",\"caxis\":{\"gridcolor\":\"white\",\"linecolor\":\"white\",\"ticks\":\"\"}},\"title\":{\"x\":0.05},\"xaxis\":{\"automargin\":true,\"gridcolor\":\"white\",\"linecolor\":\"white\",\"ticks\":\"\",\"title\":{\"standoff\":15},\"zerolinecolor\":\"white\",\"zerolinewidth\":2},\"yaxis\":{\"automargin\":true,\"gridcolor\":\"white\",\"linecolor\":\"white\",\"ticks\":\"\",\"title\":{\"standoff\":15},\"zerolinecolor\":\"white\",\"zerolinewidth\":2}}},\"title\":{\"text\":\"REASON ONHOLD\"}},                        {\"responsive\": true}                    ).then(function(){\n",
       "                            \n",
       "var gd = document.getElementById('89d110fb-13e2-454e-9dfe-105a227c9982');\n",
       "var x = new MutationObserver(function (mutations, observer) {{\n",
       "        var display = window.getComputedStyle(gd).display;\n",
       "        if (!display || display === 'none') {{\n",
       "            console.log([gd, 'removed!']);\n",
       "            Plotly.purge(gd);\n",
       "            observer.disconnect();\n",
       "        }}\n",
       "}});\n",
       "\n",
       "// Listen for the removal of the full notebook cells\n",
       "var notebookContainer = gd.closest('#notebook-container');\n",
       "if (notebookContainer) {{\n",
       "    x.observe(notebookContainer, {childList: true});\n",
       "}}\n",
       "\n",
       "// Listen for the clearing of the current output cell\n",
       "var outputEl = gd.closest('.output');\n",
       "if (outputEl) {{\n",
       "    x.observe(outputEl, {childList: true});\n",
       "}}\n",
       "\n",
       "                        })                };                });            </script>        </div>"
      ]
     },
     "metadata": {},
     "output_type": "display_data"
    }
   ],
   "source": [
    "import plotly.express as px #Importing our graphical and data extracting packages\n",
    "\n",
    "values = data['OnHoldReason'].value_counts() #Counting the unqiue values frequency\n",
    "names = data['OnHoldReason'].value_counts()\n",
    "\n",
    "fig = px.pie(data, values=values, names=names, title = \"REASON ONHOLD\")\n",
    "print(values) #print our values\n",
    "py.iplot(fig, show_link = False)"
   ]
  },
  {
   "cell_type": "code",
   "execution_count": 143,
   "metadata": {},
   "outputs": [
    {
     "data": {
      "text/html": [
       "<div>\n",
       "<style scoped>\n",
       "    .dataframe tbody tr th:only-of-type {\n",
       "        vertical-align: middle;\n",
       "    }\n",
       "\n",
       "    .dataframe tbody tr th {\n",
       "        vertical-align: top;\n",
       "    }\n",
       "\n",
       "    .dataframe thead th {\n",
       "        text-align: right;\n",
       "    }\n",
       "</style>\n",
       "<table border=\"1\" class=\"dataframe\">\n",
       "  <thead>\n",
       "    <tr style=\"text-align: right;\">\n",
       "      <th></th>\n",
       "      <th>DistrictName</th>\n",
       "      <th>total_parcel</th>\n",
       "    </tr>\n",
       "  </thead>\n",
       "  <tbody>\n",
       "    <tr>\n",
       "      <th>56</th>\n",
       "      <td>BATAM KOTA</td>\n",
       "      <td>54</td>\n",
       "    </tr>\n",
       "    <tr>\n",
       "      <th>275</th>\n",
       "      <td>JEKAN RAYA</td>\n",
       "      <td>47</td>\n",
       "    </tr>\n",
       "    <tr>\n",
       "      <th>400</th>\n",
       "      <td>LUBUK BAJA</td>\n",
       "      <td>44</td>\n",
       "    </tr>\n",
       "    <tr>\n",
       "      <th>272</th>\n",
       "      <td>JAYA BARU</td>\n",
       "      <td>35</td>\n",
       "    </tr>\n",
       "    <tr>\n",
       "      <th>561</th>\n",
       "      <td>PENJARINGAN</td>\n",
       "      <td>32</td>\n",
       "    </tr>\n",
       "    <tr>\n",
       "      <th>43</th>\n",
       "      <td>BANJARMASIN TIMUR</td>\n",
       "      <td>30</td>\n",
       "    </tr>\n",
       "    <tr>\n",
       "      <th>22</th>\n",
       "      <td>BAITURRAHMAN</td>\n",
       "      <td>30</td>\n",
       "    </tr>\n",
       "    <tr>\n",
       "      <th>361</th>\n",
       "      <td>KOTO TANGAH</td>\n",
       "      <td>28</td>\n",
       "    </tr>\n",
       "    <tr>\n",
       "      <th>382</th>\n",
       "      <td>LAHAT</td>\n",
       "      <td>23</td>\n",
       "    </tr>\n",
       "    <tr>\n",
       "      <th>401</th>\n",
       "      <td>LUBUK BEGALUNG</td>\n",
       "      <td>22</td>\n",
       "    </tr>\n",
       "  </tbody>\n",
       "</table>\n",
       "</div>"
      ],
      "text/plain": [
       "          DistrictName  total_parcel\n",
       "56          BATAM KOTA            54\n",
       "275         JEKAN RAYA            47\n",
       "400         LUBUK BAJA            44\n",
       "272          JAYA BARU            35\n",
       "561        PENJARINGAN            32\n",
       "43   BANJARMASIN TIMUR            30\n",
       "22        BAITURRAHMAN            30\n",
       "361        KOTO TANGAH            28\n",
       "382              LAHAT            23\n",
       "401     LUBUK BEGALUNG            22"
      ]
     },
     "execution_count": 143,
     "metadata": {},
     "output_type": "execute_result"
    }
   ],
   "source": [
    "# WHERE DISTRICT DOMINATION ONHOLD PARCEL\n",
    "top10_distric = (data\n",
    "            .groupby('DistrictName')\n",
    "            .agg(total_parcel=('SumOnhold','count'))\n",
    "            .reset_index()\n",
    "            .sort_values('total_parcel',ascending=False)\n",
    "            .head(10)\n",
    "            )\n",
    "top10_distric"
   ]
  },
  {
   "cell_type": "code",
   "execution_count": 84,
   "metadata": {},
   "outputs": [
    {
     "data": {
      "text/html": [
       "<div>\n",
       "<style scoped>\n",
       "    .dataframe tbody tr th:only-of-type {\n",
       "        vertical-align: middle;\n",
       "    }\n",
       "\n",
       "    .dataframe tbody tr th {\n",
       "        vertical-align: top;\n",
       "    }\n",
       "\n",
       "    .dataframe thead th {\n",
       "        text-align: right;\n",
       "    }\n",
       "</style>\n",
       "<table border=\"1\" class=\"dataframe\">\n",
       "  <thead>\n",
       "    <tr style=\"text-align: right;\">\n",
       "      <th></th>\n",
       "      <th>DistrictName</th>\n",
       "      <th>LocationType</th>\n",
       "      <th>PostalCode</th>\n",
       "      <th>ReceivedTime</th>\n",
       "      <th>PickupTime</th>\n",
       "      <th>OnHoldTime</th>\n",
       "      <th>OnHoldReason</th>\n",
       "      <th>RescheduleDate</th>\n",
       "      <th>Status</th>\n",
       "      <th>CODAmount</th>\n",
       "      <th>...</th>\n",
       "      <th>DeliveryAttempts</th>\n",
       "      <th>BulkyType</th>\n",
       "      <th>SLATargetDate</th>\n",
       "      <th>TimetoSLA</th>\n",
       "      <th>PaymentMethod</th>\n",
       "      <th>CurrentStation</th>\n",
       "      <th>AssignTime</th>\n",
       "      <th>DestinationHub</th>\n",
       "      <th>Zone</th>\n",
       "      <th>Paket</th>\n",
       "    </tr>\n",
       "  </thead>\n",
       "  <tbody>\n",
       "    <tr>\n",
       "      <th>6</th>\n",
       "      <td>TELANAIPURA</td>\n",
       "      <td>Home</td>\n",
       "      <td>36121</td>\n",
       "      <td>2022-06-13 04:48:00</td>\n",
       "      <td>2022-06-14 14:29:00</td>\n",
       "      <td>2022-06-14 14:56:00</td>\n",
       "      <td>Inaccessible Location</td>\n",
       "      <td>0</td>\n",
       "      <td>OnHold</td>\n",
       "      <td>46762</td>\n",
       "      <td>...</td>\n",
       "      <td>1</td>\n",
       "      <td>Non-Bulky</td>\n",
       "      <td>2022-06-13 00:00:00</td>\n",
       "      <td>overtime</td>\n",
       "      <td>COD</td>\n",
       "      <td>Kota Baru Hub</td>\n",
       "      <td>2022-06-14 14:29:00</td>\n",
       "      <td>Kota Baru Hub</td>\n",
       "      <td>KBR-A-04</td>\n",
       "      <td>Non-Bulky</td>\n",
       "    </tr>\n",
       "    <tr>\n",
       "      <th>9</th>\n",
       "      <td>BABELAN</td>\n",
       "      <td>Home</td>\n",
       "      <td>17610</td>\n",
       "      <td>2022-06-11 15:26:00</td>\n",
       "      <td>2022-06-12 01:38:00</td>\n",
       "      <td>2022-06-12 01:41:00</td>\n",
       "      <td>Damaged Item</td>\n",
       "      <td>0</td>\n",
       "      <td>OnHold</td>\n",
       "      <td>0</td>\n",
       "      <td>...</td>\n",
       "      <td>1</td>\n",
       "      <td>Non-Bulky</td>\n",
       "      <td>2022-06-13 00:00:00</td>\n",
       "      <td>overtime</td>\n",
       "      <td>NON-COD</td>\n",
       "      <td>Tambun Utara Hub</td>\n",
       "      <td>2022-06-12 01:38:00</td>\n",
       "      <td>Tambun Utara Hub</td>\n",
       "      <td>TBU-C-11</td>\n",
       "      <td>Non-Bulky</td>\n",
       "    </tr>\n",
       "    <tr>\n",
       "      <th>10</th>\n",
       "      <td>TAMBORA</td>\n",
       "      <td>Home</td>\n",
       "      <td>11330</td>\n",
       "      <td>2022-06-05 09:47:00</td>\n",
       "      <td>2022-06-06 09:30:00</td>\n",
       "      <td>2022-06-06 18:31:00</td>\n",
       "      <td>Damaged Item</td>\n",
       "      <td>0</td>\n",
       "      <td>OnHold</td>\n",
       "      <td>22660</td>\n",
       "      <td>...</td>\n",
       "      <td>1</td>\n",
       "      <td>Non-Bulky</td>\n",
       "      <td>2022-06-07 00:00:00</td>\n",
       "      <td>overtime</td>\n",
       "      <td>COD</td>\n",
       "      <td>Tamansari Hub</td>\n",
       "      <td>2022-06-06 09:30:00</td>\n",
       "      <td>Tamansari Hub</td>\n",
       "      <td>TMS-A-20</td>\n",
       "      <td>Non-Bulky</td>\n",
       "    </tr>\n",
       "    <tr>\n",
       "      <th>11</th>\n",
       "      <td>TAWANG</td>\n",
       "      <td>Home</td>\n",
       "      <td>46115</td>\n",
       "      <td>2022-06-15 06:19:00</td>\n",
       "      <td>2022-06-15 16:45:00</td>\n",
       "      <td>2022-06-15 16:45:00</td>\n",
       "      <td>Damaged Item</td>\n",
       "      <td>0</td>\n",
       "      <td>OnHold</td>\n",
       "      <td>0</td>\n",
       "      <td>...</td>\n",
       "      <td>1</td>\n",
       "      <td>Non-Bulky</td>\n",
       "      <td>2022-06-10 00:00:00</td>\n",
       "      <td>overtime</td>\n",
       "      <td>NON-COD</td>\n",
       "      <td>Tasikmalaya Hub</td>\n",
       "      <td>2022-06-15 16:45:00</td>\n",
       "      <td>Tasikmalaya Hub</td>\n",
       "      <td>TSK-C-06</td>\n",
       "      <td>Non-Bulky</td>\n",
       "    </tr>\n",
       "    <tr>\n",
       "      <th>17</th>\n",
       "      <td>JEKAN RAYA</td>\n",
       "      <td>Home</td>\n",
       "      <td>73112</td>\n",
       "      <td>2022-06-08 19:07:00</td>\n",
       "      <td>2022-06-15 02:19:00</td>\n",
       "      <td>2022-06-15 09:11:00</td>\n",
       "      <td>Waiting Confirmation</td>\n",
       "      <td>0</td>\n",
       "      <td>OnHold</td>\n",
       "      <td>0</td>\n",
       "      <td>...</td>\n",
       "      <td>2</td>\n",
       "      <td>Non-Bulky</td>\n",
       "      <td>2022-06-09 00:00:00</td>\n",
       "      <td>overtime</td>\n",
       "      <td>NON-COD</td>\n",
       "      <td>Palangka Raya Hub</td>\n",
       "      <td>2022-06-15 02:19:00</td>\n",
       "      <td>Palangka Raya Hub</td>\n",
       "      <td>PKY-A-35</td>\n",
       "      <td>Non-Bulky</td>\n",
       "    </tr>\n",
       "    <tr>\n",
       "      <th>19</th>\n",
       "      <td>MEDAN AMPLAS</td>\n",
       "      <td>Home</td>\n",
       "      <td>20147</td>\n",
       "      <td>2022-06-06 22:46:00</td>\n",
       "      <td>2022-06-13 18:31:00</td>\n",
       "      <td>2022-06-13 23:10:00</td>\n",
       "      <td>Buyer Not Contactable</td>\n",
       "      <td>0</td>\n",
       "      <td>OnHold</td>\n",
       "      <td>170943</td>\n",
       "      <td>...</td>\n",
       "      <td>3</td>\n",
       "      <td>Non-Bulky</td>\n",
       "      <td>2022-06-07 00:00:00</td>\n",
       "      <td>overtime</td>\n",
       "      <td>COD</td>\n",
       "      <td>Medan Amplas Hub</td>\n",
       "      <td>2022-06-13 18:31:00</td>\n",
       "      <td>Medan Amplas Hub</td>\n",
       "      <td>ATC-A-07</td>\n",
       "      <td>Non-Bulky</td>\n",
       "    </tr>\n",
       "    <tr>\n",
       "      <th>20</th>\n",
       "      <td>PENJARINGAN</td>\n",
       "      <td>Office</td>\n",
       "      <td>14440</td>\n",
       "      <td>2022-06-02 00:24:00</td>\n",
       "      <td>2022-06-04 09:09:00</td>\n",
       "      <td>2022-06-04 09:15:00</td>\n",
       "      <td>Damaged Item</td>\n",
       "      <td>0</td>\n",
       "      <td>OnHold</td>\n",
       "      <td>0</td>\n",
       "      <td>...</td>\n",
       "      <td>3</td>\n",
       "      <td>Non-Bulky</td>\n",
       "      <td>2022-06-02 00:00:00</td>\n",
       "      <td>overtime</td>\n",
       "      <td>NON-COD</td>\n",
       "      <td>Penjaringan Hub</td>\n",
       "      <td>2022-06-04 09:09:00</td>\n",
       "      <td>Penjaringan Hub</td>\n",
       "      <td>PJR-A-04</td>\n",
       "      <td>Non-Bulky</td>\n",
       "    </tr>\n",
       "    <tr>\n",
       "      <th>22</th>\n",
       "      <td>KEBAYORAN LAMA</td>\n",
       "      <td>Home</td>\n",
       "      <td>12240</td>\n",
       "      <td>2022-06-09 03:59:00</td>\n",
       "      <td>2022-06-10 15:23:00</td>\n",
       "      <td>2022-06-10 15:26:00</td>\n",
       "      <td>Buyer Not Contactable</td>\n",
       "      <td>0</td>\n",
       "      <td>OnHold</td>\n",
       "      <td>8034</td>\n",
       "      <td>...</td>\n",
       "      <td>2</td>\n",
       "      <td>Non-Bulky</td>\n",
       "      <td>2022-06-10 00:00:00</td>\n",
       "      <td>overtime</td>\n",
       "      <td>COD</td>\n",
       "      <td>Kebayoran Lama Hub</td>\n",
       "      <td>2022-06-10 15:23:00</td>\n",
       "      <td>Kebayoran Lama Hub</td>\n",
       "      <td>KBL-A-09</td>\n",
       "      <td>Non-Bulky</td>\n",
       "    </tr>\n",
       "    <tr>\n",
       "      <th>23</th>\n",
       "      <td>LARANGAN</td>\n",
       "      <td>Home</td>\n",
       "      <td>15155</td>\n",
       "      <td>2022-06-15 12:45:00</td>\n",
       "      <td>2022-06-15 18:10:00</td>\n",
       "      <td>2022-06-15 18:11:00</td>\n",
       "      <td>Damaged Item</td>\n",
       "      <td>0</td>\n",
       "      <td>OnHold</td>\n",
       "      <td>0</td>\n",
       "      <td>...</td>\n",
       "      <td>1</td>\n",
       "      <td>Non-Bulky</td>\n",
       "      <td>2022-06-17 00:00:00</td>\n",
       "      <td>21.6 H</td>\n",
       "      <td>NON-COD</td>\n",
       "      <td>Pondok Aren Hub</td>\n",
       "      <td>2022-06-15 18:10:00</td>\n",
       "      <td>Pondok Aren Hub</td>\n",
       "      <td>PDA-A-09</td>\n",
       "      <td>Non-Bulky</td>\n",
       "    </tr>\n",
       "    <tr>\n",
       "      <th>28</th>\n",
       "      <td>TANAH ABANG</td>\n",
       "      <td>Home</td>\n",
       "      <td>10220</td>\n",
       "      <td>2022-06-05 06:32:00</td>\n",
       "      <td>2022-06-05 11:19:00</td>\n",
       "      <td>2022-06-05 11:19:00</td>\n",
       "      <td>Damaged Item</td>\n",
       "      <td>0</td>\n",
       "      <td>OnHold</td>\n",
       "      <td>0</td>\n",
       "      <td>...</td>\n",
       "      <td>1</td>\n",
       "      <td>Non-Bulky</td>\n",
       "      <td>2022-06-07 00:00:00</td>\n",
       "      <td>21.8 H</td>\n",
       "      <td>NON-COD</td>\n",
       "      <td>Tanah Abang Hub</td>\n",
       "      <td>2022-06-05 11:19:00</td>\n",
       "      <td>Tanah Abang Hub</td>\n",
       "      <td>TNB-A-16</td>\n",
       "      <td>Non-Bulky</td>\n",
       "    </tr>\n",
       "  </tbody>\n",
       "</table>\n",
       "<p>10 rows × 24 columns</p>\n",
       "</div>"
      ],
      "text/plain": [
       "      DistrictName LocationType PostalCode        ReceivedTime  \\\n",
       "6      TELANAIPURA         Home      36121 2022-06-13 04:48:00   \n",
       "9          BABELAN         Home      17610 2022-06-11 15:26:00   \n",
       "10         TAMBORA         Home      11330 2022-06-05 09:47:00   \n",
       "11          TAWANG         Home      46115 2022-06-15 06:19:00   \n",
       "17      JEKAN RAYA         Home      73112 2022-06-08 19:07:00   \n",
       "19    MEDAN AMPLAS         Home      20147 2022-06-06 22:46:00   \n",
       "20     PENJARINGAN       Office      14440 2022-06-02 00:24:00   \n",
       "22  KEBAYORAN LAMA         Home      12240 2022-06-09 03:59:00   \n",
       "23        LARANGAN         Home      15155 2022-06-15 12:45:00   \n",
       "28     TANAH ABANG         Home      10220 2022-06-05 06:32:00   \n",
       "\n",
       "            PickupTime          OnHoldTime           OnHoldReason  \\\n",
       "6  2022-06-14 14:29:00 2022-06-14 14:56:00  Inaccessible Location   \n",
       "9  2022-06-12 01:38:00 2022-06-12 01:41:00           Damaged Item   \n",
       "10 2022-06-06 09:30:00 2022-06-06 18:31:00           Damaged Item   \n",
       "11 2022-06-15 16:45:00 2022-06-15 16:45:00           Damaged Item   \n",
       "17 2022-06-15 02:19:00 2022-06-15 09:11:00   Waiting Confirmation   \n",
       "19 2022-06-13 18:31:00 2022-06-13 23:10:00  Buyer Not Contactable   \n",
       "20 2022-06-04 09:09:00 2022-06-04 09:15:00           Damaged Item   \n",
       "22 2022-06-10 15:23:00 2022-06-10 15:26:00  Buyer Not Contactable   \n",
       "23 2022-06-15 18:10:00 2022-06-15 18:11:00           Damaged Item   \n",
       "28 2022-06-05 11:19:00 2022-06-05 11:19:00           Damaged Item   \n",
       "\n",
       "    RescheduleDate  Status  CODAmount  ... DeliveryAttempts  BulkyType  \\\n",
       "6                0  OnHold      46762  ...                1  Non-Bulky   \n",
       "9                0  OnHold          0  ...                1  Non-Bulky   \n",
       "10               0  OnHold      22660  ...                1  Non-Bulky   \n",
       "11               0  OnHold          0  ...                1  Non-Bulky   \n",
       "17               0  OnHold          0  ...                2  Non-Bulky   \n",
       "19               0  OnHold     170943  ...                3  Non-Bulky   \n",
       "20               0  OnHold          0  ...                3  Non-Bulky   \n",
       "22               0  OnHold       8034  ...                2  Non-Bulky   \n",
       "23               0  OnHold          0  ...                1  Non-Bulky   \n",
       "28               0  OnHold          0  ...                1  Non-Bulky   \n",
       "\n",
       "          SLATargetDate  TimetoSLA  PaymentMethod      CurrentStation  \\\n",
       "6   2022-06-13 00:00:00   overtime            COD       Kota Baru Hub   \n",
       "9   2022-06-13 00:00:00   overtime        NON-COD    Tambun Utara Hub   \n",
       "10  2022-06-07 00:00:00   overtime            COD       Tamansari Hub   \n",
       "11  2022-06-10 00:00:00   overtime        NON-COD     Tasikmalaya Hub   \n",
       "17  2022-06-09 00:00:00   overtime        NON-COD   Palangka Raya Hub   \n",
       "19  2022-06-07 00:00:00   overtime            COD    Medan Amplas Hub   \n",
       "20  2022-06-02 00:00:00   overtime        NON-COD     Penjaringan Hub   \n",
       "22  2022-06-10 00:00:00   overtime            COD  Kebayoran Lama Hub   \n",
       "23  2022-06-17 00:00:00     21.6 H        NON-COD     Pondok Aren Hub   \n",
       "28  2022-06-07 00:00:00     21.8 H        NON-COD     Tanah Abang Hub   \n",
       "\n",
       "            AssignTime      DestinationHub      Zone      Paket  \n",
       "6  2022-06-14 14:29:00       Kota Baru Hub  KBR-A-04  Non-Bulky  \n",
       "9  2022-06-12 01:38:00    Tambun Utara Hub  TBU-C-11  Non-Bulky  \n",
       "10 2022-06-06 09:30:00       Tamansari Hub  TMS-A-20  Non-Bulky  \n",
       "11 2022-06-15 16:45:00     Tasikmalaya Hub  TSK-C-06  Non-Bulky  \n",
       "17 2022-06-15 02:19:00   Palangka Raya Hub  PKY-A-35  Non-Bulky  \n",
       "19 2022-06-13 18:31:00    Medan Amplas Hub  ATC-A-07  Non-Bulky  \n",
       "20 2022-06-04 09:09:00     Penjaringan Hub  PJR-A-04  Non-Bulky  \n",
       "22 2022-06-10 15:23:00  Kebayoran Lama Hub  KBL-A-09  Non-Bulky  \n",
       "23 2022-06-15 18:10:00     Pondok Aren Hub  PDA-A-09  Non-Bulky  \n",
       "28 2022-06-05 11:19:00     Tanah Abang Hub  TNB-A-16  Non-Bulky  \n",
       "\n",
       "[10 rows x 24 columns]"
      ]
     },
     "execution_count": 84,
     "metadata": {},
     "output_type": "execute_result"
    }
   ],
   "source": [
    "# WHETHER BULKY OR NON BULKY PACKAGES ARE MORE DOMINANT\n",
    "data['Paket'] = np.where(data['BulkyType']=='Bulky','Bulky','Non-Bulky')\n",
    "data.head(10)"
   ]
  },
  {
   "cell_type": "code",
   "execution_count": 85,
   "metadata": {},
   "outputs": [
    {
     "data": {
      "text/plain": [
       "<matplotlib.axes._subplots.AxesSubplot at 0x2e515016a60>"
      ]
     },
     "execution_count": 85,
     "metadata": {},
     "output_type": "execute_result"
    },
    {
     "data": {
      "image/png": "[encoded data removed]",
      "text/plain": [
       "<Figure size 576x432 with 1 Axes>"
      ]
     },
     "metadata": {
      "needs_background": "light"
     },
     "output_type": "display_data"
    }
   ],
   "source": [
    "plt.figure(figsize=(8,6))\n",
    "plt.rc('font', size=19) #configure size font\n",
    "sns.barplot(x=data['SumOnhold'],\n",
    "            y=data['OnHoldReason'],\n",
    "            hue=data['Paket'],\n",
    "            estimator = len\n",
    "           )"
   ]
  },
  {
   "cell_type": "code",
   "execution_count": null,
   "metadata": {},
   "outputs": [],
   "source": []
  },
  {
   "cell_type": "code",
   "execution_count": null,
   "metadata": {},
   "outputs": [],
   "source": []
  }
 ],
 "metadata": {
  "kernelspec": {
   "display_name": "Python 3",
   "language": "python",
   "name": "python3"
  },
  "language_info": {
   "codemirror_mode": {
    "name": "ipython",
    "version": 3
   },
   "file_extension": ".py",
   "mimetype": "text/x-python",
   "name": "python",
   "nbconvert_exporter": "python",
   "pygments_lexer": "ipython3",
   "version": "3.8.3"
  }
 },
 "nbformat": 4,
 "nbformat_minor": 4
}
